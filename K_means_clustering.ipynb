{
  "nbformat": 4,
  "nbformat_minor": 0,
  "metadata": {
    "colab": {
      "name": "K means clustering.ipynb",
      "provenance": []
    },
    "kernelspec": {
      "name": "python3",
      "display_name": "Python 3"
    }
  },
  "cells": [
    {
      "cell_type": "code",
      "metadata": {
        "id": "raoRMUU4-iev"
      },
      "source": [
        "from pandas import DataFrame\r\n",
        "\r\n",
        "from sklearn.cluster import KMeans\r\n",
        "\r\n",
        "Data = {\r\n",
        "    'x': [25, 34, 22, 27, 33, 33, 31, 22, 35, 34, 67, 54, 57, 43, 50, 57, 59, 52, 65, 47, 49, 48,\r\n",
        "          35, 33, 44, 45, 38,\r\n",
        "          43, 51, 46],\r\n",
        "    'y': [79, 51, 53, 78, 59, 74, 73, 57, 69, 75, 51, 32, 40, 47, 53, 36, 35, 58, 59, 50, 25, 20,\r\n",
        "          14, 12, 20, 5, 29, 27,\r\n",
        "          8, 7]\r\n",
        "    }\r\n",
        "df = DataFrame(Data, columns=['x', 'y'])\r\n",
        "\r\n",
        "\r\n",
        "kmeans = KMeans(n_clusters=3).fit(df)\r\n",
        "centroids = kmeans.cluster_centers_\r\n",
        "print(centroids)\r\n",
        "\r\n",
        "import matplotlib.pyplot as plt\r\n",
        "plt.scatter(df['x'], df['y'], c=kmeans.labels_.astype(float), s=50, alpha=0.5)\r\n",
        "plt.scatter(centroids[:, 0], centroids[:, 1], c='red', s=50)\r\n",
        "plt.show()"
      ],
      "execution_count": null,
      "outputs": []
    }
  ]
}